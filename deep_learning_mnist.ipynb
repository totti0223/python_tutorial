{
 "cells": [
  {
   "cell_type": "code",
   "execution_count": 1,
   "metadata": {
    "collapsed": true
   },
   "outputs": [],
   "source": [
    "#本コードは下記サイトのほぼ流用です。一切の権利は主張しませんし、\n",
    "#ご自身でどこかで使用する場合、オリジナルコード作成者が定義する権利範囲に従って下さい。\n",
    "#http://qiita.com/ikki8412/items/95bc81a744dc377d9119\n",
    "#http://enakai00.hatenablog.com/entry/2016/02/29/090112\n"
   ]
  },
  {
   "cell_type": "code",
   "execution_count": 4,
   "metadata": {
    "collapsed": false
   },
   "outputs": [
    {
     "name": "stdout",
     "output_type": "stream",
     "text": [
      "Extracting MNIST_data/train-images-idx3-ubyte.gz\n",
      "Extracting MNIST_data/train-labels-idx1-ubyte.gz\n",
      "Extracting MNIST_data/t10k-images-idx3-ubyte.gz\n",
      "Extracting MNIST_data/t10k-labels-idx1-ubyte.gz\n"
     ]
    }
   ],
   "source": [
    "import sys,os\n",
    "import cv2\n",
    "import numpy as np\n",
    "import math\n",
    "from tensorflow.examples.tutorials.mnist import input_data\n",
    "import tensorflow as tf\n",
    "from scipy import ndimage\n",
    "from scipy.misc import imread, imsave, imresize\n",
    "\n",
    "import matplotlib as mp\n",
    "%matplotlib inline\n",
    "import matplotlib.pyplot as plt\n",
    "\n",
    "\n",
    "# mnistデータの読み込み\n",
    "#下記はインターネット上からmnist（手書き数字データベース）をダウンロードし、\n",
    "#バイナリ形式のファイルから画像を変換し、数値行列としてmnist変数に代入しています。\n",
    "#なぜ画像ファイルそのものじゃなくてバイナリ形式を扱うのか？という理由については\n",
    "#今回お話しませんので、各自調べてみて下さい。\n",
    "mnist = input_data.read_data_sets(\"MNIST_data/\", one_hot=True)\n"
   ]
  },
  {
   "cell_type": "code",
   "execution_count": null,
   "metadata": {
    "collapsed": true
   },
   "outputs": [],
   "source": [
    "print (mnist.test)\n",
    "print (mnist.train)\n",
    "\n",
    "#mnistはデータベース型変数で、testとtrainにそれぞれ画像データが入っています。\n",
    "#実際の手書き数字のデータベースを取り込んでいます。"
   ]
  },
  {
   "cell_type": "code",
   "execution_count": null,
   "metadata": {
    "collapsed": true
   },
   "outputs": [],
   "source": [
    "#画像と紐付けられたラベルを表示してみましょう。\n",
    "#print (mnist.test.images[0])\n",
    "plt.imshow(mnist.test.images[0].reshape(28,28),cmap=plt.cm.gray)\n",
    "print (\"この画像データに紐付けられた正解ラベルは\",mnist.test.labels[0],\"です\") \n",
    "#10個の配列のうち、７番目だけが１です。このような標記をone-hot-encodingといいます。"
   ]
  },
  {
   "cell_type": "code",
   "execution_count": null,
   "metadata": {
    "collapsed": true
   },
   "outputs": [],
   "source": [
    "#白背景に黒字のはずなのですが、画像解析では白を処理するのが基本なので逆転させてあります。\n",
    "#一応カラーマップを逆転させたバージョンも表示させます。\n",
    "plt.imshow(mnist.test.images[1].reshape(28,28),cmap=plt.cm.gray_r)"
   ]
  },
  {
   "cell_type": "code",
   "execution_count": null,
   "metadata": {
    "collapsed": true
   },
   "outputs": [],
   "source": [
    "#ここよりディープラーニングのコードです。"
   ]
  },
  {
   "cell_type": "code",
   "execution_count": 2,
   "metadata": {
    "collapsed": true
   },
   "outputs": [],
   "source": [
    "NUM_CLASSES = 10    # モデルのクラス数\n",
    "def inference(images_placeholder, keep_prob):\n",
    "    ####################################################################\n",
    "    #  予測モデルを作成する関数\n",
    "    #引数: \n",
    "    #  images_placeholder: 画像のplaceholder\n",
    "    #  keep_prob: dropout率のplaceholder\n",
    "    #返り値:\n",
    "    #  y_conv: 各クラスの確率(のようなもの)\n",
    "    ####################################################################\n",
    "\n",
    "    # 重みを標準偏差0.1の正規分布で初期化\n",
    "    def weight_variable(shape):\n",
    "      initial = tf.truncated_normal(shape, stddev=0.1)\n",
    "      return tf.Variable(initial)\n",
    "\n",
    "    # バイアスを標準偏差0.1の正規分布で初期化\n",
    "    def bias_variable(shape):\n",
    "      initial = tf.constant(0.1, shape=shape)\n",
    "      return tf.Variable(initial)\n",
    "\n",
    "    # 畳み込み層の作成\n",
    "    def conv2d(x, W):\n",
    "      return tf.nn.conv2d(x, W, strides=[1, 1, 1, 1], padding='SAME')\n",
    "\n",
    "    # プーリング層の作成\n",
    "    def max_pool_2x2(x):\n",
    "      return tf.nn.max_pool(x, ksize=[1, 2, 2, 1],strides=[1, 2, 2, 1], padding='SAME')\n",
    "\n",
    "    # 入力を28x28x1に変形\n",
    "    x_images = tf.reshape(images_placeholder, [-1, 28, 28, 1])\n",
    "\n",
    "    # 畳み込み層1の作成\n",
    "    with tf.name_scope('conv1') as scope:\n",
    "        W_conv1 = weight_variable([5, 5, 1, 32])\n",
    "        b_conv1 = bias_variable([32])\n",
    "        h_conv1 = tf.nn.relu(conv2d(x_images, W_conv1) + b_conv1)\n",
    "\n",
    "    # プーリング層1の作成\n",
    "    with tf.name_scope('pool1') as scope:\n",
    "        h_pool1 = max_pool_2x2(h_conv1)\n",
    "\n",
    "    # 畳み込み層2の作成\n",
    "    with tf.name_scope('conv2') as scope:\n",
    "        W_conv2 = weight_variable([5, 5, 32, 64])\n",
    "        b_conv2 = bias_variable([64])\n",
    "        h_conv2 = tf.nn.relu(conv2d(h_pool1, W_conv2) + b_conv2)\n",
    "\n",
    "    # プーリング層2の作成\n",
    "    with tf.name_scope('pool2') as scope:\n",
    "        h_pool2 = max_pool_2x2(h_conv2)\n",
    "\n",
    "    # 全結合層1の作成\n",
    "    with tf.name_scope('fc1') as scope:\n",
    "        W_fc1 = weight_variable([7*7*64, 1024])\n",
    "        b_fc1 = bias_variable([1024])\n",
    "        h_pool2_flat = tf.reshape(h_pool2, [-1, 7*7*64])\n",
    "        h_fc1 = tf.nn.relu(tf.matmul(h_pool2_flat, W_fc1) + b_fc1)\n",
    "        # dropoutの設定\n",
    "        h_fc1_drop = tf.nn.dropout(h_fc1, keep_prob)\n",
    "\n",
    "    # 全結合層2の作成\n",
    "    with tf.name_scope('fc2') as scope:\n",
    "        W_fc2 = weight_variable([1024, NUM_CLASSES])\n",
    "        b_fc2 = bias_variable([NUM_CLASSES])\n",
    "\n",
    "    # ソフトマックス関数による正規化\n",
    "    with tf.name_scope('softmax') as scope:\n",
    "        y_conv=tf.nn.softmax(tf.matmul(h_fc1_drop, W_fc2) + b_fc2)\n",
    "\n",
    "    # 各ラベルの確率のようなものを返す\n",
    "    return y_conv\n",
    "\n",
    "\n",
    "def loss(logits, labels):\n",
    "    ####################################################################\n",
    "    #  lossを計算する関数\n",
    "    #引数:\n",
    "    #  logits: ロジットのtensor, float - [batch_size, NUM_CLASSES]\n",
    "    #  labels: ラベルのtensor, int32 - [batch_size, NUM_CLASSES]\n",
    "    #返り値:\n",
    "    #  cross_entropy: 交差エントロピーのtensor, float\n",
    "    ####################################################################\n",
    "\n",
    "    # 交差エントロピーの計算\n",
    "    cross_entropy = -tf.reduce_sum(labels*tf.log(logits))\n",
    "    # TensorBoardで表示するよう指定\n",
    "    tf.scalar_summary(\"cross_entropy\", cross_entropy)\n",
    "    return cross_entropy\n",
    "\n",
    "\n",
    "def training(loss, learning_rate):\n",
    "    ####################################################################\n",
    "    #  訓練のopを定義する関数\n",
    "    #引数:\n",
    "    #  loss: 損失のtensor, loss()の結果\n",
    "    #  learning_rate: 学習係数\n",
    "    #返り値:\n",
    "    #  train_step: 訓練のop\n",
    "    ####################################################################\n",
    "\n",
    "    train_step = tf.train.AdamOptimizer(learning_rate).minimize(loss)\n",
    "    return train_step\n",
    "def accuracy(logits, labels):\n",
    "    ####################################################################\n",
    "    #  正解率(accuracy)を計算する関数\n",
    "    #引数: \n",
    "    #  logits: inference()の結果\n",
    "    #  labels: ラベルのtensor, int32 - [batch_size, NUM_CLASSES]\n",
    "    #返り値:\n",
    "    #  accuracy: 正解率(float)\n",
    "    ####################################################################\n",
    "\n",
    "    correct_prediction = tf.equal(tf.argmax(logits, 1), tf.argmax(labels, 1))\n",
    "    accuracy = tf.reduce_mean(tf.cast(correct_prediction, \"float\"))\n",
    "    tf.scalar_summary(\"accuracy\", accuracy)\n",
    "    return accuracy"
   ]
  },
  {
   "cell_type": "code",
   "execution_count": null,
   "metadata": {
    "collapsed": false,
    "scrolled": true
   },
   "outputs": [],
   "source": [
    "#訓練ステップ\n",
    "with tf.Graph().as_default():\n",
    "    x_image = tf.placeholder(\"float\", shape=[None,784])       # 入力\n",
    "    y_label = tf.placeholder(\"float\", shape=[None,10])       # 誤差関数用変数 真のclass Distribution\n",
    "    #W = tf.Variable(tf.zeros([784,10]))     # 重み\n",
    "    #b = tf.Variable(tf.zeros([10]))         # バイアス\n",
    "    #y_label = tf.nn.softmax(tf.matmul(x_image,W)+b)     # y=softmax(Wx+b)微分も勝手に行ってくれる\n",
    "    keep_prob = tf.placeholder(\"float\")\n",
    "    #init_op = tf.initialize_all_variables()    # 変数の初期化(変数使用の際必ず必要)\n",
    "    logits = inference(x_image,keep_prob)   # inference()を呼び出してモデルを作成\n",
    "    loss_value = loss(logits,y_label)       # loss()を呼び出して損失を計算\n",
    "    train_op = training(loss_value,1e-4)    # training()を呼び出して訓練（1e-4は学習率）\n",
    "    accur = accuracy(logits,y_label)     # accuracy()を呼び出して精度を計算\n",
    "    init_op = tf.initialize_all_variables()\n",
    "    sess = tf.Session()\n",
    "    sess.run(init_op)\n",
    "    # TensorBoardで表示する値の設定\n",
    "    summary_op = tf.merge_all_summaries()\n",
    "    saver = tf.train.Saver(max_to_keep = 11)\n",
    "    summary_writer = tf.train.SummaryWriter('tmp/', sess.graph)\n",
    "\n",
    "    # 訓練の実行\n",
    "    for step in range(101): #rangeの分だけ学習を繰り返します。 \n",
    "        #1001-5001ぐらいで十分ですが、マシンパワーに依存しますのでお試しで101ぐらい回してみて下さい。\n",
    "        batch = mnist.train.next_batch(50)\n",
    "        if step % 50 == 0:\n",
    "            train_accur = sess.run(accur,feed_dict={x_image: batch[0], y_label: batch[1], keep_prob:1.0})\n",
    "            print (\"step %d, training accuracy %g\" % (step,train_accur))\n",
    "        sess.run(train_op,feed_dict={x_image:batch[0],y_label:batch[1],keep_prob:0.5})# 0.5に抑えている?\n",
    "        # 100 step終わるたびにTensorBoardに表示する値を追加する\n",
    "        summary_str = sess.run(summary_op, feed_dict={\n",
    "                x_image: batch[0],\n",
    "                y_label: batch[1],\n",
    "                keep_prob: 1.0})\n",
    "        summary_writer.add_summary(summary_str, step)\n",
    "        if step % 100 == 0:\n",
    "            checkpoint_path = os.path.join(\"tmp/\", 'model.ckpt')\n",
    "            saver.save(sess, checkpoint_path, global_step=step)\n",
    "    # 結果表示\n",
    "    print (\"test accuracy %g\"%sess.run(accur, feed_dict={\n",
    "                x_image:mnist.test.images,\n",
    "                y_label:mnist.test.labels,\n",
    "                keep_prob:1.0}))\n",
    "    print (\"終わりました。\")"
   ]
  },
  {
   "cell_type": "code",
   "execution_count": 7,
   "metadata": {
    "collapsed": false
   },
   "outputs": [
    {
     "name": "stdout",
     "output_type": "stream",
     "text": [
      "[[ 0.  0.  0.  0.  0.  0.  0.  1.  0.  0.]]\n",
      "入力された画像は 7 と判定されました。\n",
      "予測値は 100.0 ％です\n"
     ]
    },
    {
     "data": {
      "text/plain": [
       "<matplotlib.image.AxesImage at 0x12e455390>"
      ]
     },
     "execution_count": 7,
     "metadata": {},
     "output_type": "execute_result"
    },
    {
     "data": {
      "image/png": "[encoded data removed]",
      "text/plain": [
       "<matplotlib.figure.Figure at 0x1137f3358>"
      ]
     },
     "metadata": {},
     "output_type": "display_data"
    }
   ],
   "source": [
    "try:\n",
    "    sess.close()\n",
    "except Exception as e:\n",
    "    print (\"session assured closed\")\n",
    "\n",
    "#画像を評価してみよう。\n",
    "tf.reset_default_graph()\n",
    "\n",
    "#image/mnistディレクトリには0.jpgから49.jpgのサンプルファイルが入っています。\n",
    "image_path = \"image/mnist/0.jpg\"\n",
    "image_jpg = imread(image_path)\n",
    "image = tf.convert_to_tensor(image_jpg,dtype=tf.float32)\n",
    "logit = inference(image,1.0)\n",
    "\n",
    "sess = tf.InteractiveSession()\n",
    "saver = tf.train.Saver()\n",
    "sess.run(tf.initialize_all_variables())\n",
    "\n",
    "#構築したモデルを読み込みます。\n",
    "saver.restore(sess,\"tmp_sample/model.ckpt-1000\")\n",
    "\n",
    "\n",
    "result=logit.eval()\n",
    "print (result)\n",
    "result2=np.argmax(result) #何番目の配列が最大値か返す処理です。#番目＝数字\n",
    "#%も表示しましょう。\n",
    "\n",
    "result = [n for n in result[0]] #型変換\n",
    "percentage = result[result2]*100 #配列の該当する番目の数字を取り出し、100をかけます。\n",
    "\n",
    "print (\"入力された画像は\",result2,\"と判定されました。\")\n",
    "print (\"予測値は\",percentage,\"％です\")\n",
    "\n",
    "plt.imshow(image_jpg)"
   ]
  },
  {
   "cell_type": "code",
   "execution_count": null,
   "metadata": {
    "collapsed": true
   },
   "outputs": [],
   "source": []
  }
 ],
 "metadata": {
  "anaconda-cloud": {},
  "kernelspec": {
   "display_name": "Python [Root]",
   "language": "python",
   "name": "Python [Root]"
  },
  "language_info": {
   "codemirror_mode": {
    "name": "ipython",
    "version": 3
   },
   "file_extension": ".py",
   "mimetype": "text/x-python",
   "name": "python",
   "nbconvert_exporter": "python",
   "pygments_lexer": "ipython3",
   "version": "3.5.2"
  }
 },
 "nbformat": 4,
 "nbformat_minor": 0
}
